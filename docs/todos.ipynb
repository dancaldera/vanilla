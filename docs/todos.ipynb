{
 "cells": [
  {
   "cell_type": "markdown",
   "metadata": {},
   "source": [
    "# Todos"
   ]
  },
  {
   "cell_type": "code",
   "execution_count": 2,
   "metadata": {},
   "outputs": [
    {
     "name": "stdout",
     "output_type": "stream",
     "text": [
      "http://localhost:8000\n"
     ]
    }
   ],
   "source": [
    "console.log(Deno.env.get(\"API_URL\"));"
   ]
  },
  {
   "cell_type": "markdown",
   "metadata": {},
   "source": [
    "Get Home for testing"
   ]
  },
  {
   "cell_type": "code",
   "execution_count": 8,
   "metadata": {},
   "outputs": [
    {
     "name": "stdout",
     "output_type": "stream",
     "text": [
      "API is running\n"
     ]
    }
   ],
   "source": [
    "const res = await fetch(Deno.env.get(\"API_URL\") as string);\n",
    "\n",
    "if (!res.ok) {\n",
    "  throw new Error('Failed to fetch user');\n",
    "}\n",
    "\n",
    "const data = await res.text();\n",
    "\n",
    "console.log(data);"
   ]
  },
  {
   "cell_type": "markdown",
   "metadata": {},
   "source": [
    "Get Current Todos"
   ]
  },
  {
   "cell_type": "code",
   "execution_count": 18,
   "metadata": {},
   "outputs": [
    {
     "name": "stdout",
     "output_type": "stream",
     "text": [
      "[ [ 2, \"Do something\", false, \"2024-11-12T20:20:44.179Z\" ] ]\n"
     ]
    }
   ],
   "source": [
    "const res = await fetch(Deno.env.get(\"API_URL\") as string + \"/todos\");\n",
    "\n",
    "if (!res.ok) {\n",
    "  throw new Error('Failed to fetch todos');\n",
    "}\n",
    "\n",
    "const data = await res.json();\n",
    "\n",
    "console.log(data);"
   ]
  },
  {
   "cell_type": "markdown",
   "metadata": {},
   "source": [
    "Add Todo"
   ]
  },
  {
   "cell_type": "code",
   "execution_count": null,
   "metadata": {},
   "outputs": [
    {
     "name": "stdout",
     "output_type": "stream",
     "text": [
      "[ 4, \"Do something\", false, \"2024-11-12T20:23:34.472Z\" ]\n"
     ]
    }
   ],
   "source": [
    "const res = await fetch(Deno.env.get(\"API_URL\") as string + \"/todos\", {\n",
    "  method: \"POST\",\n",
    "  headers: {\n",
    "    \"Content-Type\": \"application/json\",\n",
    "  },\n",
    "  body: JSON.stringify({\n",
    "    title: \"Do something\",\n",
    "    completed: false,\n",
    "  }),\n",
    "});\n",
    "\n",
    "const data = await res.json();\n",
    "\n",
    "console.log(data);"
   ]
  },
  {
   "cell_type": "markdown",
   "metadata": {},
   "source": [
    "Update Todo"
   ]
  },
  {
   "cell_type": "code",
   "execution_count": null,
   "metadata": {},
   "outputs": [
    {
     "name": "stdout",
     "output_type": "stream",
     "text": [
      "{ error: \"Todo not found\" }\n"
     ]
    }
   ],
   "source": [
    "const res = await fetch(Deno.env.get(\"API_URL\") as string + \"/todos/1\", {\n",
    "  method: \"PUT\",\n",
    "  headers: {\n",
    "    \"Content-Type\": \"application/json\",\n",
    "  },\n",
    "  body: JSON.stringify({\n",
    "    title: \"Do something else\",\n",
    "    completed: true,\n",
    "  }),\n",
    "});\n",
    "\n",
    "const data = await res.json();\n",
    "\n",
    "console.log(data);"
   ]
  },
  {
   "cell_type": "markdown",
   "metadata": {},
   "source": [
    "Delete Todo"
   ]
  },
  {
   "cell_type": "code",
   "execution_count": 21,
   "metadata": {},
   "outputs": [
    {
     "ename": "Error",
     "evalue": "Failed to delete todo",
     "output_type": "error",
     "traceback": [
      "Stack trace:",
      "Error: Failed to delete todo",
      "    at <anonymous>:5:9",
      "    at eventLoopTick (ext:core/01_core.js:175:7)"
     ]
    }
   ],
   "source": [
    "const res = await fetch(Deno.env.get(\"API_URL\") as string + \"/todos/1\", {\n",
    "  method: \"DELETE\",\n",
    "});\n",
    "\n",
    "if (!res.ok) {\n",
    "  throw new Error('Failed to delete todo');\n",
    "}\n",
    "\n",
    "console.log('Todo deleted');"
   ]
  }
 ],
 "metadata": {
  "kernelspec": {
   "display_name": "Deno",
   "language": "typescript",
   "name": "deno"
  },
  "language_info": {
   "codemirror_mode": "typescript",
   "file_extension": ".ts",
   "mimetype": "text/x.typescript",
   "name": "typescript",
   "nbconvert_exporter": "script",
   "pygments_lexer": "typescript",
   "version": "5.6.2"
  }
 },
 "nbformat": 4,
 "nbformat_minor": 2
}
